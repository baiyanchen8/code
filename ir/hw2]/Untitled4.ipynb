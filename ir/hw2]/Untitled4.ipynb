{
  "cells": [
    {
      "cell_type": "code",
      "execution_count": 1,
      "metadata": {
        "colab": {
          "base_uri": "https://localhost:8080/"
        },
        "id": "jyJePxXK_rob",
        "outputId": "c4f8a8e1-1ef4-452f-d459-bbab9cceff40"
      },
      "outputs": [
        {
          "name": "stderr",
          "output_type": "stream",
          "text": [
            "[nltk_data] Downloading package punkt to\n",
            "[nltk_data]     C:\\Users\\陳柏硯\\AppData\\Roaming\\nltk_data...\n",
            "[nltk_data]   Package punkt is already up-to-date!\n",
            "[nltk_data] Downloading package stopwords to\n",
            "[nltk_data]     C:\\Users\\陳柏硯\\AppData\\Roaming\\nltk_data...\n",
            "[nltk_data]   Unzipping corpora\\stopwords.zip.\n"
          ]
        },
        {
          "data": {
            "text/plain": [
              "True"
            ]
          },
          "execution_count": 1,
          "metadata": {},
          "output_type": "execute_result"
        }
      ],
      "source": [
        "try:\n",
        "  import pandas as pd\n",
        "  from nltk import word_tokenize\n",
        "  import nltk\n",
        "  from spellchecker import SpellChecker\n",
        "  from nltk.corpus import stopwords\n",
        "  from nltk.tokenize import RegexpTokenizer\n",
        "  from nltk import FreqDist\n",
        "  from nltk.stem import WordNetLemmatizer\n",
        "  from nltk import pos_tag\n",
        "  from nltk.stem import PorterStemmer\n",
        "  import re\n",
        "except:\n",
        "  import pandas as pd\n",
        "  from nltk import word_tokenize\n",
        "  import nltk\n",
        "  from spellchecker import SpellChecker\n",
        "  from nltk.corpus import stopwords\n",
        "  from nltk.tokenize import RegexpTokenizer\n",
        "  from nltk import FreqDist\n",
        "  from nltk.stem import WordNetLemmatizer\n",
        "  from nltk import pos_tag\n",
        "  from nltk.stem import PorterStemmer\n",
        "  import re\n",
        "nltk.download('punkt')\n",
        "nltk.download('stopwords')"
      ]
    },
    {
      "cell_type": "code",
      "execution_count": 2,
      "metadata": {
        "colab": {
          "base_uri": "https://localhost:8080/",
          "height": 276
        },
        "id": "5IjsaDTY_5zj",
        "outputId": "fbf005ef-6533-42b2-e4c8-a4d3a91405a3"
      },
      "outputs": [
        {
          "name": "stderr",
          "output_type": "stream",
          "text": [
            "C:\\Users\\陳柏硯\\AppData\\Local\\Temp\\ipykernel_42156\\1203838967.py:9: SettingWithCopyWarning: \n",
            "A value is trying to be set on a copy of a slice from a DataFrame.\n",
            "Try using .loc[row_indexer,col_indexer] = value instead\n",
            "\n",
            "See the caveats in the documentation: https://pandas.pydata.org/pandas-docs/stable/user_guide/indexing.html#returning-a-view-versus-a-copy\n",
            "  df_text['Tweet']=df_text['Tweet'].str.lower()\n"
          ]
        },
        {
          "name": "stdout",
          "output_type": "stream",
          "text": [
            "Index(['Tweet ID', 'Country', 'Date', 'Tweet', 'Definitely English',\n",
            "       'Ambiguous', 'Definitely Not English', 'Code-Switched',\n",
            "       'Ambiguous due to Named Entities', 'Automatically Generated Tweets'],\n",
            "      dtype='object')\n"
          ]
        },
        {
          "name": "stderr",
          "output_type": "stream",
          "text": [
            "C:\\Users\\陳柏硯\\AppData\\Local\\Temp\\ipykernel_42156\\1203838967.py:20: SettingWithCopyWarning: \n",
            "A value is trying to be set on a copy of a slice from a DataFrame.\n",
            "Try using .loc[row_indexer,col_indexer] = value instead\n",
            "\n",
            "See the caveats in the documentation: https://pandas.pydata.org/pandas-docs/stable/user_guide/indexing.html#returning-a-view-versus-a-copy\n",
            "  df_text['Tweet']=df_text['Tweet'].apply(lambda X: word_tokenize(X))\n"
          ]
        },
        {
          "data": {
            "text/html": [
              "<div>\n",
              "<style scoped>\n",
              "    .dataframe tbody tr th:only-of-type {\n",
              "        vertical-align: middle;\n",
              "    }\n",
              "\n",
              "    .dataframe tbody tr th {\n",
              "        vertical-align: top;\n",
              "    }\n",
              "\n",
              "    .dataframe thead th {\n",
              "        text-align: right;\n",
              "    }\n",
              "</style>\n",
              "<table border=\"1\" class=\"dataframe\">\n",
              "  <thead>\n",
              "    <tr style=\"text-align: right;\">\n",
              "      <th></th>\n",
              "      <th>Tweet</th>\n",
              "    </tr>\n",
              "  </thead>\n",
              "  <tbody>\n",
              "    <tr>\n",
              "      <th>0</th>\n",
              "      <td>[bugün, bulusmami, lazimdiii]</td>\n",
              "    </tr>\n",
              "    <tr>\n",
              "      <th>1</th>\n",
              "      <td>[volkan, konak, adami, tribe, sokar, yemin, ed...</td>\n",
              "    </tr>\n",
              "    <tr>\n",
              "      <th>2</th>\n",
              "      <td>[bed]</td>\n",
              "    </tr>\n",
              "    <tr>\n",
              "      <th>3</th>\n",
              "      <td>[i, felt, my, first, flash, of, violence, at, ...</td>\n",
              "    </tr>\n",
              "    <tr>\n",
              "      <th>4</th>\n",
              "      <td>[ladies, drink, and, get, in, free, till, 10:30]</td>\n",
              "    </tr>\n",
              "  </tbody>\n",
              "</table>\n",
              "</div>"
            ],
            "text/plain": [
              "                                               Tweet\n",
              "0                      [bugün, bulusmami, lazimdiii]\n",
              "1  [volkan, konak, adami, tribe, sokar, yemin, ed...\n",
              "2                                              [bed]\n",
              "3  [i, felt, my, first, flash, of, violence, at, ...\n",
              "4   [ladies, drink, and, get, in, free, till, 10:30]"
            ]
          },
          "execution_count": 2,
          "metadata": {},
          "output_type": "execute_result"
        }
      ],
      "source": [
        "# 讀取TSV檔案到pandas DataFrame\n",
        "df = pd.read_csv('all_annotated.tsv', sep=\"\\t\")\n",
        "\n",
        "# 確認欄位名稱\n",
        "print(df.columns)\n",
        "df_text = df[['Tweet']]\n",
        "# df_text=df_text.iloc[:1000]\n",
        "# 將Tweet轉為小寫\n",
        "df_text['Tweet']=df_text['Tweet'].str.lower()\n",
        "\n",
        "# 移除空白\n",
        "def remove_whitespace(text):\n",
        "    return  \" \".join(text.split())\n",
        "\n",
        "# 測試\n",
        "text = \" We will going to win this match\"\n",
        "remove_whitespace(text)\n",
        "\n",
        "# 分詞\n",
        "df_text['Tweet']=df_text['Tweet'].apply(lambda X: word_tokenize(X))\n",
        "df_text.head()"
      ]
    },
    {
      "cell_type": "code",
      "execution_count": 3,
      "metadata": {
        "colab": {
          "base_uri": "https://localhost:8080/"
        },
        "id": "atqYOnoSAHyj",
        "outputId": "4ececa85-5575-433a-ba77-12ced937ffb3"
      },
      "outputs": [
        {
          "data": {
            "text/plain": [
              "['confusion', 'matrix']"
            ]
          },
          "execution_count": 3,
          "metadata": {},
          "output_type": "execute_result"
        }
      ],
      "source": [
        "# 拼字檢\n",
        "def spell_check(text):\n",
        "    result = []\n",
        "    spell = SpellChecker()\n",
        "    for word in text:\n",
        "        correct_word = spell.correction(word)\n",
        "        result.append(correct_word)\n",
        "    return result\n",
        "\n",
        "# 測試\n",
        "text = \"confuson matrx\".split()\n",
        "spell_check(text)"
      ]
    },
    {
      "cell_type": "code",
      "execution_count": 4,
      "metadata": {
        "colab": {
          "base_uri": "https://localhost:8080/",
          "height": 304
        },
        "id": "1NxQIy-1r0Dd",
        "outputId": "fafca69d-524b-462e-8644-efc2cf26e633"
      },
      "outputs": [
        {
          "name": "stderr",
          "output_type": "stream",
          "text": [
            "C:\\Users\\陳柏硯\\AppData\\Local\\Temp\\ipykernel_42156\\3039587328.py:1: SettingWithCopyWarning: \n",
            "A value is trying to be set on a copy of a slice from a DataFrame.\n",
            "Try using .loc[row_indexer,col_indexer] = value instead\n",
            "\n",
            "See the caveats in the documentation: https://pandas.pydata.org/pandas-docs/stable/user_guide/indexing.html#returning-a-view-versus-a-copy\n",
            "  df_text['Tweet'] = df_text['Tweet'].apply(spell_check)\n"
          ]
        },
        {
          "data": {
            "text/html": [
              "<div>\n",
              "<style scoped>\n",
              "    .dataframe tbody tr th:only-of-type {\n",
              "        vertical-align: middle;\n",
              "    }\n",
              "\n",
              "    .dataframe tbody tr th {\n",
              "        vertical-align: top;\n",
              "    }\n",
              "\n",
              "    .dataframe thead th {\n",
              "        text-align: right;\n",
              "    }\n",
              "</style>\n",
              "<table border=\"1\" class=\"dataframe\">\n",
              "  <thead>\n",
              "    <tr style=\"text-align: right;\">\n",
              "      <th></th>\n",
              "      <th>Tweet</th>\n",
              "    </tr>\n",
              "  </thead>\n",
              "  <tbody>\n",
              "    <tr>\n",
              "      <th>0</th>\n",
              "      <td>[burn, None, None]</td>\n",
              "    </tr>\n",
              "    <tr>\n",
              "      <th>1</th>\n",
              "      <td>[vodka, knock, damn, tribe, solar, hemin, eeri...</td>\n",
              "    </tr>\n",
              "    <tr>\n",
              "      <th>2</th>\n",
              "      <td>[bed]</td>\n",
              "    </tr>\n",
              "    <tr>\n",
              "      <th>3</th>\n",
              "      <td>[i, felt, my, first, flash, of, violence, at, ...</td>\n",
              "    </tr>\n",
              "    <tr>\n",
              "      <th>4</th>\n",
              "      <td>[ladies, drink, and, get, in, free, till, None]</td>\n",
              "    </tr>\n",
              "  </tbody>\n",
              "</table>\n",
              "</div>"
            ],
            "text/plain": [
              "                                               Tweet\n",
              "0                                 [burn, None, None]\n",
              "1  [vodka, knock, damn, tribe, solar, hemin, eeri...\n",
              "2                                              [bed]\n",
              "3  [i, felt, my, first, flash, of, violence, at, ...\n",
              "4    [ladies, drink, and, get, in, free, till, None]"
            ]
          },
          "execution_count": 4,
          "metadata": {},
          "output_type": "execute_result"
        }
      ],
      "source": [
        "df_text['Tweet'] = df_text['Tweet'].apply(spell_check)\n",
        "df_text.head()\n",
        "# 461min....."
      ]
    },
    {
      "cell_type": "code",
      "execution_count": 5,
      "metadata": {
        "id": "xFIAs3WNANDz"
      },
      "outputs": [
        {
          "name": "stdout",
          "output_type": "stream",
          "text": [
            "['i', 'me', 'my', 'myself', 'we', 'our', 'ours', 'ourselves', 'you', \"you're\", \"you've\", \"you'll\", \"you'd\", 'your', 'yours', 'yourself', 'yourselves', 'he', 'him', 'his', 'himself', 'she', \"she's\", 'her', 'hers', 'herself', 'it', \"it's\", 'its', 'itself', 'they', 'them', 'their', 'theirs', 'themselves', 'what', 'which', 'who', 'whom', 'this', 'that', \"that'll\", 'these', 'those', 'am', 'is', 'are', 'was', 'were', 'be', 'been', 'being', 'have', 'has', 'had', 'having', 'do', 'does', 'did', 'doing', 'a', 'an', 'the', 'and', 'but', 'if', 'or', 'because', 'as', 'until', 'while', 'of', 'at', 'by', 'for', 'with', 'about', 'against', 'between', 'into', 'through', 'during', 'before', 'after', 'above', 'below', 'to', 'from', 'up', 'down', 'in', 'out', 'on', 'off', 'over', 'under', 'again', 'further', 'then', 'once', 'here', 'there', 'when', 'where', 'why', 'how', 'all', 'any', 'both', 'each', 'few', 'more', 'most', 'other', 'some', 'such', 'no', 'nor', 'not', 'only', 'own', 'same', 'so', 'than', 'too', 'very', 's', 't', 'can', 'will', 'just', 'don', \"don't\", 'should', \"should've\", 'now', 'd', 'll', 'm', 'o', 're', 've', 'y', 'ain', 'aren', \"aren't\", 'couldn', \"couldn't\", 'didn', \"didn't\", 'doesn', \"doesn't\", 'hadn', \"hadn't\", 'hasn', \"hasn't\", 'haven', \"haven't\", 'isn', \"isn't\", 'ma', 'mightn', \"mightn't\", 'mustn', \"mustn't\", 'needn', \"needn't\", 'shan', \"shan't\", 'shouldn', \"shouldn't\", 'wasn', \"wasn't\", 'weren', \"weren't\", 'won', \"won't\", 'wouldn', \"wouldn't\"]\n"
          ]
        },
        {
          "name": "stderr",
          "output_type": "stream",
          "text": [
            "C:\\Users\\陳柏硯\\AppData\\Local\\Temp\\ipykernel_42156\\1179568509.py:17: SettingWithCopyWarning: \n",
            "A value is trying to be set on a copy of a slice from a DataFrame.\n",
            "Try using .loc[row_indexer,col_indexer] = value instead\n",
            "\n",
            "See the caveats in the documentation: https://pandas.pydata.org/pandas-docs/stable/user_guide/indexing.html#returning-a-view-versus-a-copy\n",
            "  df_text['Tweet'] = df_text['Tweet'].apply(remove_stopwords)\n"
          ]
        },
        {
          "data": {
            "text/html": [
              "<div>\n",
              "<style scoped>\n",
              "    .dataframe tbody tr th:only-of-type {\n",
              "        vertical-align: middle;\n",
              "    }\n",
              "\n",
              "    .dataframe tbody tr th {\n",
              "        vertical-align: top;\n",
              "    }\n",
              "\n",
              "    .dataframe thead th {\n",
              "        text-align: right;\n",
              "    }\n",
              "</style>\n",
              "<table border=\"1\" class=\"dataframe\">\n",
              "  <thead>\n",
              "    <tr style=\"text-align: right;\">\n",
              "      <th></th>\n",
              "      <th>Tweet</th>\n",
              "    </tr>\n",
              "  </thead>\n",
              "  <tbody>\n",
              "    <tr>\n",
              "      <th>0</th>\n",
              "      <td>[burn, None, None]</td>\n",
              "    </tr>\n",
              "    <tr>\n",
              "      <th>1</th>\n",
              "      <td>[vodka, knock, damn, tribe, solar, hemin, eeri...</td>\n",
              "    </tr>\n",
              "    <tr>\n",
              "      <th>2</th>\n",
              "      <td>[bed]</td>\n",
              "    </tr>\n",
              "    <tr>\n",
              "      <th>3</th>\n",
              "      <td>[felt, first, flash, violence, fool, bumped, N...</td>\n",
              "    </tr>\n",
              "    <tr>\n",
              "      <th>4</th>\n",
              "      <td>[ladies, drink, get, free, till, None]</td>\n",
              "    </tr>\n",
              "  </tbody>\n",
              "</table>\n",
              "</div>"
            ],
            "text/plain": [
              "                                               Tweet\n",
              "0                                 [burn, None, None]\n",
              "1  [vodka, knock, damn, tribe, solar, hemin, eeri...\n",
              "2                                              [bed]\n",
              "3  [felt, first, flash, violence, fool, bumped, N...\n",
              "4             [ladies, drink, get, free, till, None]"
            ]
          },
          "execution_count": 5,
          "metadata": {},
          "output_type": "execute_result"
        }
      ],
      "source": [
        "# 停用字移除\n",
        "print(stopwords.words('english'))\n",
        "\n",
        "en_stopwords = stopwords.words('english')\n",
        "\n",
        "def remove_stopwords(text):\n",
        "    result = []\n",
        "    for token in text:\n",
        "        if token not in en_stopwords:\n",
        "            result.append(token)\n",
        "    return result\n",
        "\n",
        "# 測試\n",
        "text = \"this is the only solution of that question\".split()\n",
        "remove_stopwords(text)\n",
        "\n",
        "df_text['Tweet'] = df_text['Tweet'].apply(remove_stopwords)\n",
        "df_text.head()"
      ]
    },
    {
      "cell_type": "code",
      "execution_count": 6,
      "metadata": {
        "id": "l1_pva86APIf"
      },
      "outputs": [
        {
          "name": "stdout",
          "output_type": "stream",
          "text": [
            "['burn', None, None]\n"
          ]
        },
        {
          "name": "stderr",
          "output_type": "stream",
          "text": [
            "C:\\Users\\陳柏硯\\AppData\\Local\\Temp\\ipykernel_42156\\1179465151.py:16: SettingWithCopyWarning: \n",
            "A value is trying to be set on a copy of a slice from a DataFrame.\n",
            "Try using .loc[row_indexer,col_indexer] = value instead\n",
            "\n",
            "See the caveats in the documentation: https://pandas.pydata.org/pandas-docs/stable/user_guide/indexing.html#returning-a-view-versus-a-copy\n",
            "  df_text['Tweet'] = df_text['Tweet'].apply(remove_punct)\n"
          ]
        },
        {
          "data": {
            "text/html": [
              "<div>\n",
              "<style scoped>\n",
              "    .dataframe tbody tr th:only-of-type {\n",
              "        vertical-align: middle;\n",
              "    }\n",
              "\n",
              "    .dataframe tbody tr th {\n",
              "        vertical-align: top;\n",
              "    }\n",
              "\n",
              "    .dataframe thead th {\n",
              "        text-align: right;\n",
              "    }\n",
              "</style>\n",
              "<table border=\"1\" class=\"dataframe\">\n",
              "  <thead>\n",
              "    <tr style=\"text-align: right;\">\n",
              "      <th></th>\n",
              "      <th>Tweet</th>\n",
              "    </tr>\n",
              "  </thead>\n",
              "  <tbody>\n",
              "    <tr>\n",
              "      <th>0</th>\n",
              "      <td>[burn, None, None]</td>\n",
              "    </tr>\n",
              "    <tr>\n",
              "      <th>1</th>\n",
              "      <td>[vodka, knock, damn, tribe, solar, hemin, eerie]</td>\n",
              "    </tr>\n",
              "    <tr>\n",
              "      <th>2</th>\n",
              "      <td>[bed]</td>\n",
              "    </tr>\n",
              "    <tr>\n",
              "      <th>3</th>\n",
              "      <td>[felt, first, flash, violence, fool, bumped, N...</td>\n",
              "    </tr>\n",
              "    <tr>\n",
              "      <th>4</th>\n",
              "      <td>[ladies, drink, get, free, till, None]</td>\n",
              "    </tr>\n",
              "  </tbody>\n",
              "</table>\n",
              "</div>"
            ],
            "text/plain": [
              "                                               Tweet\n",
              "0                                 [burn, None, None]\n",
              "1   [vodka, knock, damn, tribe, solar, hemin, eerie]\n",
              "2                                              [bed]\n",
              "3  [felt, first, flash, violence, fool, bumped, N...\n",
              "4             [ladies, drink, get, free, till, None]"
            ]
          },
          "execution_count": 6,
          "metadata": {},
          "output_type": "execute_result"
        }
      ],
      "source": [
        "# 移除標點符號\n",
        "def remove_punct(text):\n",
        "    if text is None:\n",
        "        return \"\"\n",
        "    text = str(text)  # 將 text 轉換為字串類型\n",
        "    tokenizer = RegexpTokenizer(r\"\\w+\")\n",
        "    lst = tokenizer.tokenize(text)\n",
        "    return lst\n",
        "\n",
        "\n",
        "# 測試\n",
        "text=df_text['Tweet'][0]\n",
        "print(text)\n",
        "remove_punct(text)\n",
        "\n",
        "df_text['Tweet'] = df_text['Tweet'].apply(remove_punct)\n",
        "df_text.head()"
      ]
    },
    {
      "cell_type": "code",
      "execution_count": 7,
      "metadata": {
        "id": "P8cUO-QyAQxy"
      },
      "outputs": [
        {
          "name": "stderr",
          "output_type": "stream",
          "text": [
            "C:\\Users\\陳柏硯\\AppData\\Local\\Temp\\ipykernel_42156\\2037203970.py:22: SettingWithCopyWarning: \n",
            "A value is trying to be set on a copy of a slice from a DataFrame.\n",
            "Try using .loc[row_indexer,col_indexer] = value instead\n",
            "\n",
            "See the caveats in the documentation: https://pandas.pydata.org/pandas-docs/stable/user_guide/indexing.html#returning-a-view-versus-a-copy\n",
            "  df_text['Tweet']=df_text['Tweet'].apply(remove_freq_words)\n"
          ]
        },
        {
          "data": {
            "text/html": [
              "<div>\n",
              "<style scoped>\n",
              "    .dataframe tbody tr th:only-of-type {\n",
              "        vertical-align: middle;\n",
              "    }\n",
              "\n",
              "    .dataframe tbody tr th {\n",
              "        vertical-align: top;\n",
              "    }\n",
              "\n",
              "    .dataframe thead th {\n",
              "        text-align: right;\n",
              "    }\n",
              "</style>\n",
              "<table border=\"1\" class=\"dataframe\">\n",
              "  <thead>\n",
              "    <tr style=\"text-align: right;\">\n",
              "      <th></th>\n",
              "      <th>Tweet</th>\n",
              "    </tr>\n",
              "  </thead>\n",
              "  <tbody>\n",
              "    <tr>\n",
              "      <th>0</th>\n",
              "      <td>[burn, None, None]</td>\n",
              "    </tr>\n",
              "    <tr>\n",
              "      <th>1</th>\n",
              "      <td>[vodka, knock, damn, tribe, solar, hemin, eerie]</td>\n",
              "    </tr>\n",
              "    <tr>\n",
              "      <th>2</th>\n",
              "      <td>[bed]</td>\n",
              "    </tr>\n",
              "    <tr>\n",
              "      <th>3</th>\n",
              "      <td>[felt, first, flash, violence, fool, bumped, N...</td>\n",
              "    </tr>\n",
              "    <tr>\n",
              "      <th>4</th>\n",
              "      <td>[ladies, drink, get, free, till, None]</td>\n",
              "    </tr>\n",
              "  </tbody>\n",
              "</table>\n",
              "</div>"
            ],
            "text/plain": [
              "                                               Tweet\n",
              "0                                 [burn, None, None]\n",
              "1   [vodka, knock, damn, tribe, solar, hemin, eerie]\n",
              "2                                              [bed]\n",
              "3  [felt, first, flash, violence, fool, bumped, N...\n",
              "4             [ladies, drink, get, free, till, None]"
            ]
          },
          "execution_count": 7,
          "metadata": {},
          "output_type": "execute_result"
        }
      ],
      "source": [
        "# 常見字詞\n",
        "def frequent_words(df):\n",
        "    lst=[]\n",
        "    for text in df.values:\n",
        "        lst+=text[0]\n",
        "    fdist=FreqDist(lst)\n",
        "    return fdist.most_common(10)\n",
        "\n",
        "freq_words = frequent_words(df_text)\n",
        "\n",
        "lst = []\n",
        "for a,b in freq_words:\n",
        "    lst.append(b)\n",
        "\n",
        "def remove_freq_words(text):\n",
        "    result=[]\n",
        "    for item in text:\n",
        "        if item not in lst:\n",
        "            result.append(item)\n",
        "    return result\n",
        "\n",
        "df_text['Tweet']=df_text['Tweet'].apply(remove_freq_words)\n",
        "df_text.head()"
      ]
    },
    {
      "cell_type": "code",
      "execution_count": 8,
      "metadata": {
        "id": "LmSvkTmtAS1C"
      },
      "outputs": [
        {
          "name": "stderr",
          "output_type": "stream",
          "text": [
            "[nltk_data] Downloading package averaged_perceptron_tagger to\n",
            "[nltk_data]     C:\\Users\\陳柏硯\\AppData\\Roaming\\nltk_data...\n",
            "[nltk_data]   Unzipping taggers\\averaged_perceptron_tagger.zip.\n",
            "[nltk_data] Downloading package wordnet to\n",
            "[nltk_data]     C:\\Users\\陳柏硯\\AppData\\Roaming\\nltk_data...\n",
            "C:\\Users\\陳柏硯\\AppData\\Local\\Temp\\ipykernel_42156\\1947433968.py:19: SettingWithCopyWarning: \n",
            "A value is trying to be set on a copy of a slice from a DataFrame.\n",
            "Try using .loc[row_indexer,col_indexer] = value instead\n",
            "\n",
            "See the caveats in the documentation: https://pandas.pydata.org/pandas-docs/stable/user_guide/indexing.html#returning-a-view-versus-a-copy\n",
            "  df_text['Tweet']=df_text['Tweet'].apply(lemmatization)\n"
          ]
        },
        {
          "data": {
            "text/html": [
              "<div>\n",
              "<style scoped>\n",
              "    .dataframe tbody tr th:only-of-type {\n",
              "        vertical-align: middle;\n",
              "    }\n",
              "\n",
              "    .dataframe tbody tr th {\n",
              "        vertical-align: top;\n",
              "    }\n",
              "\n",
              "    .dataframe thead th {\n",
              "        text-align: right;\n",
              "    }\n",
              "</style>\n",
              "<table border=\"1\" class=\"dataframe\">\n",
              "  <thead>\n",
              "    <tr style=\"text-align: right;\">\n",
              "      <th></th>\n",
              "      <th>Tweet</th>\n",
              "    </tr>\n",
              "  </thead>\n",
              "  <tbody>\n",
              "    <tr>\n",
              "      <th>0</th>\n",
              "      <td>[burn, None, None]</td>\n",
              "    </tr>\n",
              "    <tr>\n",
              "      <th>1</th>\n",
              "      <td>[vodka, knock, damn, tribe, solar, hemin, eerie]</td>\n",
              "    </tr>\n",
              "    <tr>\n",
              "      <th>2</th>\n",
              "      <td>[bed]</td>\n",
              "    </tr>\n",
              "    <tr>\n",
              "      <th>3</th>\n",
              "      <td>[felt, first, flash, violence, fool, bump, Non...</td>\n",
              "    </tr>\n",
              "    <tr>\n",
              "      <th>4</th>\n",
              "      <td>[lady, drink, get, free, till, None]</td>\n",
              "    </tr>\n",
              "  </tbody>\n",
              "</table>\n",
              "</div>"
            ],
            "text/plain": [
              "                                               Tweet\n",
              "0                                 [burn, None, None]\n",
              "1   [vodka, knock, damn, tribe, solar, hemin, eerie]\n",
              "2                                              [bed]\n",
              "3  [felt, first, flash, violence, fool, bump, Non...\n",
              "4               [lady, drink, get, free, till, None]"
            ]
          },
          "execution_count": 8,
          "metadata": {},
          "output_type": "execute_result"
        }
      ],
      "source": [
        "# 詞性還原\n",
        "nltk.download('averaged_perceptron_tagger')\n",
        "nltk.download('wordnet')\n",
        "\n",
        "def lemmatization(text):\n",
        "    result=[]\n",
        "    wordnet = WordNetLemmatizer()\n",
        "    for token,tag in pos_tag(text):\n",
        "        pos=tag[0].lower()\n",
        "        if pos not in ['a', 'r', 'n', 'v']:\n",
        "            pos='n'\n",
        "        result.append(wordnet.lemmatize(token,pos))\n",
        "    return result\n",
        "\n",
        "# 測試\n",
        "text = ['running','ran','runs']\n",
        "lemmatization(text)\n",
        "\n",
        "df_text['Tweet']=df_text['Tweet'].apply(lemmatization)\n",
        "df_text.head()"
      ]
    },
    {
      "cell_type": "code",
      "execution_count": 9,
      "metadata": {
        "id": "oLMrIdiQAZ1K"
      },
      "outputs": [
        {
          "name": "stderr",
          "output_type": "stream",
          "text": [
            "C:\\Users\\陳柏硯\\AppData\\Local\\Temp\\ipykernel_42156\\2327574843.py:13: SettingWithCopyWarning: \n",
            "A value is trying to be set on a copy of a slice from a DataFrame.\n",
            "Try using .loc[row_indexer,col_indexer] = value instead\n",
            "\n",
            "See the caveats in the documentation: https://pandas.pydata.org/pandas-docs/stable/user_guide/indexing.html#returning-a-view-versus-a-copy\n",
            "  df_text['Tweet']=df_text['Tweet'].apply(stemming)\n"
          ]
        },
        {
          "data": {
            "text/html": [
              "<div>\n",
              "<style scoped>\n",
              "    .dataframe tbody tr th:only-of-type {\n",
              "        vertical-align: middle;\n",
              "    }\n",
              "\n",
              "    .dataframe tbody tr th {\n",
              "        vertical-align: top;\n",
              "    }\n",
              "\n",
              "    .dataframe thead th {\n",
              "        text-align: right;\n",
              "    }\n",
              "</style>\n",
              "<table border=\"1\" class=\"dataframe\">\n",
              "  <thead>\n",
              "    <tr style=\"text-align: right;\">\n",
              "      <th></th>\n",
              "      <th>Tweet</th>\n",
              "    </tr>\n",
              "  </thead>\n",
              "  <tbody>\n",
              "    <tr>\n",
              "      <th>0</th>\n",
              "      <td>[burn, none, none]</td>\n",
              "    </tr>\n",
              "    <tr>\n",
              "      <th>1</th>\n",
              "      <td>[vodka, knock, damn, tribe, solar, hemin, eeri]</td>\n",
              "    </tr>\n",
              "    <tr>\n",
              "      <th>2</th>\n",
              "      <td>[bed]</td>\n",
              "    </tr>\n",
              "    <tr>\n",
              "      <th>3</th>\n",
              "      <td>[felt, first, flash, violenc, fool, bump, none...</td>\n",
              "    </tr>\n",
              "    <tr>\n",
              "      <th>4</th>\n",
              "      <td>[ladi, drink, get, free, till, none]</td>\n",
              "    </tr>\n",
              "  </tbody>\n",
              "</table>\n",
              "</div>"
            ],
            "text/plain": [
              "                                               Tweet\n",
              "0                                 [burn, none, none]\n",
              "1    [vodka, knock, damn, tribe, solar, hemin, eeri]\n",
              "2                                              [bed]\n",
              "3  [felt, first, flash, violenc, fool, bump, none...\n",
              "4               [ladi, drink, get, free, till, none]"
            ]
          },
          "execution_count": 9,
          "metadata": {},
          "output_type": "execute_result"
        }
      ],
      "source": [
        "# 詞幹提取\n",
        "def stemming(text):\n",
        "    porter = PorterStemmer()\n",
        "    result=[]\n",
        "    for word in text:\n",
        "        result.append(porter.stem(word))\n",
        "    return result\n",
        "\n",
        "# 測試\n",
        "text=['Connects','Connecting','Connections','Connected','Connection','Connectings','Connect']\n",
        "stemming(text)\n",
        "\n",
        "df_text['Tweet']=df_text['Tweet'].apply(stemming)\n",
        "df_text.head()"
      ]
    },
    {
      "cell_type": "code",
      "execution_count": 10,
      "metadata": {
        "id": "7MoyM8pjOnTd"
      },
      "outputs": [
        {
          "name": "stderr",
          "output_type": "stream",
          "text": [
            "C:\\Users\\陳柏硯\\AppData\\Local\\Temp\\ipykernel_42156\\2682850534.py:21: SettingWithCopyWarning: \n",
            "A value is trying to be set on a copy of a slice from a DataFrame.\n",
            "Try using .loc[row_indexer,col_indexer] = value instead\n",
            "\n",
            "See the caveats in the documentation: https://pandas.pydata.org/pandas-docs/stable/user_guide/indexing.html#returning-a-view-versus-a-copy\n",
            "  df_text['Tweet'] = df_text['Tweet'].apply(remove_urls)\n"
          ]
        },
        {
          "data": {
            "text/html": [
              "<div>\n",
              "<style scoped>\n",
              "    .dataframe tbody tr th:only-of-type {\n",
              "        vertical-align: middle;\n",
              "    }\n",
              "\n",
              "    .dataframe tbody tr th {\n",
              "        vertical-align: top;\n",
              "    }\n",
              "\n",
              "    .dataframe thead th {\n",
              "        text-align: right;\n",
              "    }\n",
              "</style>\n",
              "<table border=\"1\" class=\"dataframe\">\n",
              "  <thead>\n",
              "    <tr style=\"text-align: right;\">\n",
              "      <th></th>\n",
              "      <th>Tweet</th>\n",
              "    </tr>\n",
              "  </thead>\n",
              "  <tbody>\n",
              "    <tr>\n",
              "      <th>0</th>\n",
              "      <td>[burn, none, none]</td>\n",
              "    </tr>\n",
              "    <tr>\n",
              "      <th>1</th>\n",
              "      <td>[vodka, knock, damn, tribe, solar, hemin, eeri]</td>\n",
              "    </tr>\n",
              "    <tr>\n",
              "      <th>2</th>\n",
              "      <td>[bed]</td>\n",
              "    </tr>\n",
              "    <tr>\n",
              "      <th>3</th>\n",
              "      <td>[felt, first, flash, violenc, fool, bump, none...</td>\n",
              "    </tr>\n",
              "    <tr>\n",
              "      <th>4</th>\n",
              "      <td>[ladi, drink, get, free, till, none]</td>\n",
              "    </tr>\n",
              "  </tbody>\n",
              "</table>\n",
              "</div>"
            ],
            "text/plain": [
              "                                               Tweet\n",
              "0                                 [burn, none, none]\n",
              "1    [vodka, knock, damn, tribe, solar, hemin, eeri]\n",
              "2                                              [bed]\n",
              "3  [felt, first, flash, violenc, fool, bump, none...\n",
              "4               [ladi, drink, get, free, till, none]"
            ]
          },
          "execution_count": 10,
          "metadata": {},
          "output_type": "execute_result"
        }
      ],
      "source": [
        "# 移除HTML標籤\n",
        "def remove_tag(text):\n",
        "    text=' '.join(text)\n",
        "    html_pattern = re.compile('<.*?>')\n",
        "    return html_pattern.sub(r'', text)\n",
        "\n",
        "# 測試\n",
        "text = \"<HEAD> this is head tag </HEAD>\"\n",
        "remove_tag(text.split())\n",
        "\n",
        "# 移除URL\n",
        "def remove_urls(text):\n",
        "    if not isinstance(text, str):\n",
        "        return text\n",
        "    url_pattern = re.compile(r'https?://\\S+|www\\.\\S+')\n",
        "    return url_pattern.sub(r'', text)\n",
        "# 測試\n",
        "text = \"Machine learning knowledge is an awsome site. Here is the link for it https://machinelearningknowledge.ai/\"\n",
        "remove_urls(text)\n",
        "\n",
        "df_text['Tweet'] = df_text['Tweet'].apply(remove_urls)\n",
        "df_text.head()\n"
      ]
    },
    {
      "cell_type": "code",
      "execution_count": 11,
      "metadata": {
        "id": "NK_kkbII0LKJ"
      },
      "outputs": [
        {
          "name": "stdout",
          "output_type": "stream",
          "text": [
            "0                                       [burn, none, none]\n",
            "1          [vodka, knock, damn, tribe, solar, hemin, eeri]\n",
            "2                                                    [bed]\n",
            "3        [felt, first, flash, violenc, fool, bump, none...\n",
            "4                     [ladi, drink, get, free, till, none]\n",
            "                               ...                        \n",
            "10497          [none, sampan, none, none, none, hat, none]\n",
            "10498    [el, lido, mica, north, de, paladin, main, non...\n",
            "10499    [none, none, man, pah, love, terra, koto, coff...\n",
            "10500             [none, batch, feder, lowest, hate, none]\n",
            "10501    [manta, cater, none, naira, none, ana, honor, ...\n",
            "Name: Tweet, Length: 10502, dtype: object\n"
          ]
        }
      ],
      "source": [
        "print(df_text['Tweet'])\n",
        "df_text[[\"Tweet\"]].to_csv('output_file.csv', index=False)"
      ]
    }
  ],
  "metadata": {
    "colab": {
      "provenance": []
    },
    "kernelspec": {
      "display_name": "Python 3",
      "name": "python3"
    },
    "language_info": {
      "codemirror_mode": {
        "name": "ipython",
        "version": 3
      },
      "file_extension": ".py",
      "mimetype": "text/x-python",
      "name": "python",
      "nbconvert_exporter": "python",
      "pygments_lexer": "ipython3",
      "version": "3.10.11"
    }
  },
  "nbformat": 4,
  "nbformat_minor": 0
}
